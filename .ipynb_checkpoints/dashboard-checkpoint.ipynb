{
 "cells": [
  {
   "cell_type": "markdown",
   "metadata": {},
   "source": [
    "# San Francisco Rental Prices Dashboard\n",
    "\n",
    "In this notebook, you will compile the visualizations from the previous analysis into functions that can be used for a Panel dashboard."
   ]
  },
  {
   "cell_type": "code",
   "execution_count": null,
   "metadata": {},
   "outputs": [],
   "source": [
    "# imports\n",
    "import panel as pn\n",
    "pn.extension('plotly')\n",
    "import plotly.express as px\n",
    "import pandas as pd\n",
    "import hvplot.pandas\n",
    "import matplotlib.pyplot as plt\n",
    "import os\n",
    "from pathlib import Path\n",
    "from dotenv import load_dotenv"
   ]
  },
  {
   "cell_type": "code",
   "execution_count": null,
   "metadata": {},
   "outputs": [],
   "source": [
    "# Read the Mapbox API key\n",
    "load_dotenv(\"key.env\")\n",
    "map_box_api = os.getenv(\"mapbox\")\n",
    "px.set_mapbox_access_token(map_box_api)"
   ]
  },
  {
   "cell_type": "markdown",
   "metadata": {},
   "source": [
    "# Import Data"
   ]
  },
  {
   "cell_type": "code",
   "execution_count": 15,
   "metadata": {},
   "outputs": [
    {
     "data": {
      "text/html": [
       "<div>\n",
       "<style scoped>\n",
       "    .dataframe tbody tr th:only-of-type {\n",
       "        vertical-align: middle;\n",
       "    }\n",
       "\n",
       "    .dataframe tbody tr th {\n",
       "        vertical-align: top;\n",
       "    }\n",
       "\n",
       "    .dataframe thead th {\n",
       "        text-align: right;\n",
       "    }\n",
       "</style>\n",
       "<table border=\"1\" class=\"dataframe\">\n",
       "  <thead>\n",
       "    <tr style=\"text-align: right;\">\n",
       "      <th></th>\n",
       "      <th>Lat</th>\n",
       "      <th>Lon</th>\n",
       "    </tr>\n",
       "    <tr>\n",
       "      <th>Neighborhood</th>\n",
       "      <th></th>\n",
       "      <th></th>\n",
       "    </tr>\n",
       "  </thead>\n",
       "  <tbody>\n",
       "    <tr>\n",
       "      <th>Alamo Square</th>\n",
       "      <td>37.791012</td>\n",
       "      <td>-122.402100</td>\n",
       "    </tr>\n",
       "    <tr>\n",
       "      <th>Anza Vista</th>\n",
       "      <td>37.779598</td>\n",
       "      <td>-122.443451</td>\n",
       "    </tr>\n",
       "    <tr>\n",
       "      <th>Bayview</th>\n",
       "      <td>37.734670</td>\n",
       "      <td>-122.401060</td>\n",
       "    </tr>\n",
       "    <tr>\n",
       "      <th>Bayview Heights</th>\n",
       "      <td>37.728740</td>\n",
       "      <td>-122.410980</td>\n",
       "    </tr>\n",
       "    <tr>\n",
       "      <th>Bernal Heights</th>\n",
       "      <td>37.728630</td>\n",
       "      <td>-122.443050</td>\n",
       "    </tr>\n",
       "    <tr>\n",
       "      <th>Buena Vista Park</th>\n",
       "      <td>37.768160</td>\n",
       "      <td>-122.439330</td>\n",
       "    </tr>\n",
       "    <tr>\n",
       "      <th>Central Richmond</th>\n",
       "      <td>37.777890</td>\n",
       "      <td>-122.445170</td>\n",
       "    </tr>\n",
       "    <tr>\n",
       "      <th>Central Sunset</th>\n",
       "      <td>37.749610</td>\n",
       "      <td>-122.489990</td>\n",
       "    </tr>\n",
       "    <tr>\n",
       "      <th>Clarendon Heights</th>\n",
       "      <td>37.753310</td>\n",
       "      <td>-122.447030</td>\n",
       "    </tr>\n",
       "    <tr>\n",
       "      <th>Corona Heights</th>\n",
       "      <td>37.785530</td>\n",
       "      <td>-122.456000</td>\n",
       "    </tr>\n",
       "  </tbody>\n",
       "</table>\n",
       "</div>"
      ],
      "text/plain": [
       "                         Lat         Lon\n",
       "Neighborhood                            \n",
       "Alamo Square       37.791012 -122.402100\n",
       "Anza Vista         37.779598 -122.443451\n",
       "Bayview            37.734670 -122.401060\n",
       "Bayview Heights    37.728740 -122.410980\n",
       "Bernal Heights     37.728630 -122.443050\n",
       "Buena Vista Park   37.768160 -122.439330\n",
       "Central Richmond   37.777890 -122.445170\n",
       "Central Sunset     37.749610 -122.489990\n",
       "Clarendon Heights  37.753310 -122.447030\n",
       "Corona Heights     37.785530 -122.456000"
      ]
     },
     "execution_count": 15,
     "metadata": {},
     "output_type": "execute_result"
    }
   ],
   "source": [
    "# Import the necessary CSVs to Pandas DataFrames\n",
    "file_path = Path(\"Data/neighborhoods_coordinates.csv\")\n",
    "neigh_data = pd.read_csv(file_path, index_col=\"Neighborhood\")\n",
    "neigh_data.head(10)"
   ]
  },
  {
   "cell_type": "code",
   "execution_count": 19,
   "metadata": {},
   "outputs": [
    {
     "data": {
      "text/html": [
       "<div>\n",
       "<style scoped>\n",
       "    .dataframe tbody tr th:only-of-type {\n",
       "        vertical-align: middle;\n",
       "    }\n",
       "\n",
       "    .dataframe tbody tr th {\n",
       "        vertical-align: top;\n",
       "    }\n",
       "\n",
       "    .dataframe thead th {\n",
       "        text-align: right;\n",
       "    }\n",
       "</style>\n",
       "<table border=\"1\" class=\"dataframe\">\n",
       "  <thead>\n",
       "    <tr style=\"text-align: right;\">\n",
       "      <th></th>\n",
       "      <th>Unnamed: 0</th>\n",
       "      <th>year</th>\n",
       "      <th>housing_units</th>\n",
       "    </tr>\n",
       "  </thead>\n",
       "  <tbody>\n",
       "    <tr>\n",
       "      <th>0</th>\n",
       "      <td>0</td>\n",
       "      <td>2010</td>\n",
       "      <td>372560</td>\n",
       "    </tr>\n",
       "    <tr>\n",
       "      <th>1</th>\n",
       "      <td>1</td>\n",
       "      <td>2011</td>\n",
       "      <td>374507</td>\n",
       "    </tr>\n",
       "    <tr>\n",
       "      <th>2</th>\n",
       "      <td>2</td>\n",
       "      <td>2012</td>\n",
       "      <td>376454</td>\n",
       "    </tr>\n",
       "    <tr>\n",
       "      <th>3</th>\n",
       "      <td>3</td>\n",
       "      <td>2013</td>\n",
       "      <td>378401</td>\n",
       "    </tr>\n",
       "    <tr>\n",
       "      <th>4</th>\n",
       "      <td>4</td>\n",
       "      <td>2014</td>\n",
       "      <td>380348</td>\n",
       "    </tr>\n",
       "    <tr>\n",
       "      <th>5</th>\n",
       "      <td>5</td>\n",
       "      <td>2015</td>\n",
       "      <td>382295</td>\n",
       "    </tr>\n",
       "    <tr>\n",
       "      <th>6</th>\n",
       "      <td>6</td>\n",
       "      <td>2016</td>\n",
       "      <td>384242</td>\n",
       "    </tr>\n",
       "  </tbody>\n",
       "</table>\n",
       "</div>"
      ],
      "text/plain": [
       "   Unnamed: 0  year  housing_units\n",
       "0           0  2010         372560\n",
       "1           1  2011         374507\n",
       "2           2  2012         376454\n",
       "3           3  2013         378401\n",
       "4           4  2014         380348\n",
       "5           5  2015         382295\n",
       "6           6  2016         384242"
      ]
     },
     "execution_count": 19,
     "metadata": {},
     "output_type": "execute_result"
    }
   ],
   "source": [
    "# Import the necessary CSVs to Pandas DataFrames\n",
    "file_path = Path(\"Data/sfo_average_housing_units.csv\")\n",
    "sfo_data_avg = pd.read_csv(file_path)\n",
    "sfo_data_avg.head(10)"
   ]
  },
  {
   "cell_type": "markdown",
   "metadata": {},
   "source": [
    "- - -"
   ]
  },
  {
   "cell_type": "markdown",
   "metadata": {},
   "source": [
    "## Panel Visualizations\n",
    "\n",
    "In this section, you will copy the code for each plot type from your analysis notebook and place it into separate functions that Panel can use to create panes for the dashboard. \n",
    "\n",
    "These functions will convert the plot object to a Panel pane.\n",
    "\n",
    "Be sure to include any DataFrame transformation/manipulation code required along with the plotting code.\n",
    "\n",
    "Return a Panel pane object from each function that can be used to build the dashboard.\n",
    "\n",
    "Note: Remove any `.show()` lines from the code. We want to return the plots instead of showing them. The Panel dashboard will then display the plots."
   ]
  },
  {
   "cell_type": "code",
   "execution_count": 1,
   "metadata": {},
   "outputs": [],
   "source": [
    "# Define Panel Visualization Functions\n",
    "def housing_units_per_year():\n",
    "    \"\"\"Housing Units Per Year.\"\"\"\n",
    "    \n",
    "    housing_units = sf_data[\"housing_units\"]\n",
    "    housing_units = housing_units.groupby([sf_data.index]).mean()\n",
    "    \n",
    "    housing_units_fig = plt.figure()\n",
    "    housing_units_plot = housing_units.plot.bar(x='year', ylim=[370000, 385000], title=\"Average Number of Housing Units Sold per Year\")\n",
    "    plt.close(housing_units_fig)\n",
    "    \n",
    "    return pn.pane.Matplotlib(housing_units_fig)\n",
    "\n",
    "\n",
    "def average_gross_rent():  \n",
    "    \"\"\"Average Gross Rent in San Francisco Per Year.\"\"\"\n",
    "    \n",
    "\n",
    "    \n",
    "    average_rent_sqr_foot = sf_data[\"gross_rent\"].groupby([sf_data.index]).mean()\n",
    "    \n",
    "    gross_rent_fig = plt.figure()\n",
    "    average_rent_plot = (average_rent_sqr_foot.plot.line(x='year', y='gross_rent', title=\"Average Goss Rent per Year\"))\n",
    "    plt.close(gross_rent_fig)\n",
    "    \n",
    "    return pn.pane.Matplotlib(gross_rent_fig)\n",
    "\n",
    "\n",
    "\n",
    "def average_sales_price():\n",
    "    \"\"\"Average Sales Price Per Year.\"\"\"\n",
    "    \n",
    "    average_price_sqr_foot = sf_data[\"sale_price_sqr_foot\"].groupby([sf_data.index]).mean()\n",
    "    sales_price_fig = plt.figure()\n",
    "    average_price_plot = (average_price_sqr_foot.plot.line(x='year', y='sale_price_sqr_foot', title=\"Average Sales Price per Year\"))\n",
    "    plt.close(sales_price_fig)\n",
    "    \n",
    "    return pn.pane.Matplotlib(sales_price_fig)\n",
    "\n",
    "\n",
    "def average_price_by_neighborhood(neighborhood):\n",
    "    \"\"\"Average Prices by Neighborhood.\"\"\"\n",
    "    \n",
    "    sf_data_new = sf_data.groupby([sf_data.index, \"neighborhood\"]).mean()\n",
    "    sfo_sales = sf_data_new[\"sale_price_sqr_foot\"]\n",
    "    sfo_sales_df = pd.DataFrame(sfo_sales).reset_index()\n",
    "     \n",
    "    \n",
    "    return sfo_sales_df.loc[sfo_sales_df['neighborhood']==neighborhood,:].hvplot.line(\n",
    "        x=\"year\",\n",
    "        y=\"sale_price_sqr_foot\",\n",
    "        colormap=\"coolwarm\",\n",
    "        title=\"SF Sale per Square foot per Year\",\n",
    "    )\n",
    "\n",
    "sf_data_new = sf_data.groupby([sf_data.index, \"neighborhood\"]).mean()\n",
    "sfo_sales = sf_data_new[\"sale_price_sqr_foot\"]\n",
    "sfo_sales_df = pd.DataFrame(sfo_sales).reset_index()\n",
    "neighborhood_choice = sfo_sales_df[\"neighborhood\"].unique()\n",
    "interact(average_price_by_neighborhood, neighborhood=neighborhood_choice)\n",
    "\n",
    "\n",
    "\n",
    "def top_most_expensive_neighborhoods():\n",
    "    \"\"\"Top 10 Most Expensive Neighborhoods.\"\"\"\n",
    "    \n",
    "    avg_value_per_neighborhood = sf_data.groupby([sf_data[\"neighborhood\"]]).mean()\n",
    "    avg_value_per_neighborhood = avg_value_per_neighborhood.reset_index()\n",
    "    top_10_most_expensive = avg_value_per_neighborhood.nlargest(10, 'sale_price_sqr_foot').reset_index()\n",
    "    top10_plot = px.bar(top_10_most_expensive,\n",
    "    x=\"neighborhood\", \n",
    "    y=\"sale_price_sqr_foot\", \n",
    "    title=\"Top 10 Most Expensive Neighborhoods in San Francisco\", \n",
    "    )\n",
    "\n",
    "    return top10_plot\n",
    "\n",
    "\n",
    "def most_expensive_neighborhoods_rent_sales():\n",
    "    \"\"\"Comparison of Rent and Sales Prices of Most Expensive Neighborhoods.\"\"\"   \n",
    "    \n",
    "    # YOUR CODE HERE!\n",
    "\n",
    "    \n",
    "    \n",
    "def parallel_coordinates():\n",
    "    \"\"\"Parallel Coordinates Plot.\"\"\"\n",
    "    \n",
    "    avg_value_per_neighborhood = sf_data.groupby([sf_data[\"neighborhood\"]]).mean()    \n",
    "    top_10_most_expensive = avg_value_per_neighborhood.nlargest(10, 'sale_price_sqr_foot').reset_index()\n",
    "    top_10_parallel = px.parallel_coordinates(\n",
    "    top_10_most_expensive, \n",
    "    color='sale_price_sqr_foot')\n",
    "\n",
    "    return top_10_parallel\n",
    "\n",
    "\n",
    "\n",
    "def parallel_categories():\n",
    "    \"\"\"Parallel Categories Plot.\"\"\"\n",
    "    \n",
    "    avg_value_per_neighborhood = sf_data.groupby([sf_data[\"neighborhood\"]]).mean()  \n",
    "    top_10_ex_neighborhood = avg_value_per_neighborhood.nlargest(10, 'sale_price_sqr_foot').reset_index()\n",
    "    top_10_parallel_categories = px.parallel_categories(\n",
    "    top_10_ex_neighborhood,\n",
    "    dimensions=[\"neighborhood\", \"sale_price_sqr_foot\", \"housing_units\", \"gross_rent\"],\n",
    "    color=\"sale_price_sqr_foot\",\n",
    "    color_continuous_scale=px.colors.sequential.Inferno,\n",
    ")\n",
    "\n",
    "    return top_10_parallel_categories\n",
    "\n",
    "\n",
    "\n",
    "def neighborhood_map():\n",
    "    \"\"\"Neighborhood Map\"\"\"\n",
    "    \n",
    "    file_path = Path(\"Data/neighborhoods_coordinates.csv\")\n",
    "    df_neighborhood_location = pd.read_csv(file_path)\n",
    "    avg_value_per_neighborhood = sf_data.groupby([sf_data[\"neighborhood\"]]).mean()  \n",
    "    avg_value_per_neighborhood = avg_value_per_neighborhood.reset_index()\n",
    "    avg_value_location = pd.concat([avg_value_per_neighborhood, df_neighborhood_location], axis=\"columns\", join=\"inner\")\n",
    "\n",
    "    location_map = px.scatter_mapbox(\n",
    "    avg_value_location,\n",
    "    lat=\"Lat\",\n",
    "    lon=\"Lon\",\n",
    "    size=\"sale_price_sqr_foot\",\n",
    "    color=\"gross_rent\",\n",
    "    color_continuous_scale=px.colors.cyclical.IceFire,\n",
    "    #title=\"Average Sale Price per Square Foot and Gross Rent in San Francisco\",\n",
    "    zoom=11,\n",
    "    width=800,\n",
    ")\n",
    "    \n",
    "\n",
    "    return location_map\n",
    "\n",
    "\n",
    "def sunburst():\n",
    "    \"\"\"Sunburst Plot.\"\"\"\n",
    "    \n",
    "    # YOUR CODE HERE!\n"
   ]
  },
  {
   "cell_type": "markdown",
   "metadata": {},
   "source": [
    "## Panel Dashboard\n",
    "\n",
    "In this section, you will combine all of the plots into a single dashboard view using Panel. Be creative with your dashboard design!"
   ]
  },
  {
   "cell_type": "code",
   "execution_count": null,
   "metadata": {},
   "outputs": [],
   "source": [
    "title = '#Real Estate Analysis of San Francisco from 2010-2016'\n",
    "welcome_tab = pn.Row(pn.Column(title), neighborhood_map())\n",
    "\n",
    "market_analysis_row = pn.Row(housing_units_per_year(), average_gross_rent(), average_sales_price())\n",
    "\n",
    "\n",
    "neighborhood_analysis_tab = pn.Column(interact(average_price_by_neighborhood, neighborhood=neighborhood_choice),\n",
    "    top_most_expensive_neighborhoods()\n",
    ")\n",
    "\n",
    "parallel_plots_tab = pn.Column( \n",
    "    parallel_categories(),\n",
    "    parallel_coordinates()\n",
    ")\n",
    "\n",
    "\n",
    "# Create tabs\n",
    "\n",
    "SF_dashboard = pn.Tabs((\"Welcome\", welcome_tab), \n",
    "(\"Yearly Market Analysis\", market_analysis_row),\n",
    "(\"Neighborhood Analysis\", neighborhood_analysis_tab), \n",
    "(\"Interactive Market Analysis by Neighborhood\", parallel_plots_tab))"
   ]
  },
  {
   "cell_type": "markdown",
   "metadata": {},
   "source": [
    "## Serve the Panel Dashboard"
   ]
  },
  {
   "cell_type": "code",
   "execution_count": null,
   "metadata": {},
   "outputs": [],
   "source": [
    "# Serve the# dashboard\n",
    "SF_dashboard.servable()\n"
   ]
  },
  {
   "cell_type": "markdown",
   "metadata": {},
   "source": [
    "# Debugging\n",
    "\n",
    "Note: Some of the Plotly express plots may not render in the notebook through the panel functions.\n",
    "\n",
    "However, you can test each plot by uncommenting the following code"
   ]
  },
  {
   "cell_type": "code",
   "execution_count": null,
   "metadata": {},
   "outputs": [],
   "source": [
    "# housing_units_per_year()"
   ]
  },
  {
   "cell_type": "code",
   "execution_count": null,
   "metadata": {},
   "outputs": [],
   "source": [
    "# average_gross_rent()"
   ]
  },
  {
   "cell_type": "code",
   "execution_count": null,
   "metadata": {},
   "outputs": [],
   "source": [
    "# average_sales_price()"
   ]
  },
  {
   "cell_type": "code",
   "execution_count": null,
   "metadata": {},
   "outputs": [],
   "source": [
    "# average_price_by_neighborhood()"
   ]
  },
  {
   "cell_type": "code",
   "execution_count": null,
   "metadata": {},
   "outputs": [],
   "source": [
    "# top_most_expensive_neighborhoods()"
   ]
  },
  {
   "cell_type": "code",
   "execution_count": null,
   "metadata": {},
   "outputs": [],
   "source": [
    "# most_expensive_neighborhoods_rent_sales()"
   ]
  },
  {
   "cell_type": "code",
   "execution_count": null,
   "metadata": {},
   "outputs": [],
   "source": [
    "# neighborhood_map().show()"
   ]
  },
  {
   "cell_type": "code",
   "execution_count": null,
   "metadata": {},
   "outputs": [],
   "source": [
    "# parallel_categories()"
   ]
  },
  {
   "cell_type": "code",
   "execution_count": null,
   "metadata": {},
   "outputs": [],
   "source": [
    "# parallel_coordinates()"
   ]
  },
  {
   "cell_type": "code",
   "execution_count": null,
   "metadata": {},
   "outputs": [],
   "source": [
    "# sunburst()"
   ]
  },
  {
   "cell_type": "code",
   "execution_count": null,
   "metadata": {},
   "outputs": [],
   "source": []
  }
 ],
 "metadata": {
  "file_extension": ".py",
  "kernelspec": {
   "display_name": "Python 3",
   "language": "python",
   "name": "python3"
  },
  "language_info": {
   "codemirror_mode": {
    "name": "ipython",
    "version": 3
   },
   "file_extension": ".py",
   "mimetype": "text/x-python",
   "name": "python",
   "nbconvert_exporter": "python",
   "pygments_lexer": "ipython3",
   "version": "3.8.5"
  },
  "mimetype": "text/x-python",
  "name": "python",
  "npconvert_exporter": "python",
  "pygments_lexer": "ipython3",
  "version": 3
 },
 "nbformat": 4,
 "nbformat_minor": 4
}
